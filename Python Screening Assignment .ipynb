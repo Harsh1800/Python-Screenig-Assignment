{
 "cells": [
  {
   "cell_type": "markdown",
   "metadata": {},
   "source": [
    "# 1.Create a function in python to read the text file and replace specific content of the file."
   ]
  },
  {
   "cell_type": "markdown",
   "metadata": {},
   "source": [
    "File Name -> example.txt\n",
    "\n",
    "Origin File Content -> This is a placement assignment\n",
    "\n",
    "Replace String -> Placement should be replaced by screening\n",
    "\n",
    "Replaced File Content -> This is a screening assignment"
   ]
  },
  {
   "cell_type": "code",
   "execution_count": 1,
   "metadata": {},
   "outputs": [
    {
     "name": "stdout",
     "output_type": "stream",
     "text": [
      "Enter text to be replaced:This is a placement assignment\n",
      "Enter text that will replace:This is a screening assignment\n",
      "Text successfully replaced\n"
     ]
    }
   ],
   "source": [
    "# Python program to replace text in a file\n",
    "x = input(\"Enter text to be replaced:\")\n",
    "y = input(\"Enter text that will replace:\")\n",
    " \n",
    "# example.txt should be replaced with\n",
    "# the actual text file name\n",
    "z = open(\"example.txt\", \"w\")\n",
    "f = open(\"example.txt\",\"r+\")\n",
    " \n",
    "# each sentence becomes an element in the list l\n",
    "l = f.readlines()\n",
    " \n",
    "# acts as a counter to know the index of the element to be replaced\n",
    "c = 0\n",
    "for i in l:\n",
    "    if x in i:\n",
    " \n",
    "        # Replacement carries the value of the text to be replaced\n",
    "        Replacement = i.replace(x, y)\n",
    " \n",
    "        # changes are made in the list\n",
    "        l = Replacement\n",
    "    c += 1\n",
    " \n",
    "# The pre existing text in the file is erased\n",
    "f.truncate(0)\n",
    " \n",
    "# the modified list is written into\n",
    "# the file thereby replacing the old text\n",
    "f.writelines(l)\n",
    "f.close()\n",
    "print(\"Text successfully replaced\")"
   ]
  },
  {
   "cell_type": "markdown",
   "metadata": {},
   "source": [
    "# 2. Demonstrate use of abstract class, multiple inheritance and decorator in python using examples."
   ]
  },
  {
   "cell_type": "markdown",
   "metadata": {},
   "source": [
    "ABSTRACT CLASS -> An abstract class can be considered as a blueprint for other classes. It allows us to create a set of methods that must be created within any child classes built from the abstract class.A class which contains one or more abstract methods is called an abstract class.\n",
    "\n",
    "An abstract method is a method that has a declaration but does not have an implementation.\n"
   ]
  },
  {
   "cell_type": "code",
   "execution_count": 2,
   "metadata": {},
   "outputs": [
    {
     "name": "stdout",
     "output_type": "stream",
     "text": [
      "This is a Python Screening Assignment\n",
      "I can teach Probability \n",
      "I can teach Regression\n",
      "we can learn both\n"
     ]
    }
   ],
   "source": [
    "from abc import ABC, abstractmethod\n",
    "class Teaching(ABC):\n",
    " \n",
    "    def work(self):\n",
    "        pass\n",
    "    \n",
    "class Screening(Teaching):\n",
    " \n",
    "    # overriding abstract method\n",
    "    def work(self):\n",
    "        print(\"This is a Python Screening Assignment\")\n",
    " \n",
    "class Sir(Teaching):\n",
    " \n",
    "    def work(self):\n",
    "        print(\"I can teach Probability \")\n",
    " \n",
    "class Mam(Teaching):\n",
    " \n",
    "    def work(self):\n",
    "        print(\"I can teach Regression\")\n",
    " \n",
    "class students(Teaching):\n",
    " \n",
    "    def work(self):\n",
    "        print(\"we can learn both\")\n",
    " \n",
    "\n",
    "         \n",
    "# Driver code\n",
    "R=Screening()\n",
    "R.work()\n",
    "\n",
    "K= Sir()\n",
    "K.work()\n",
    " \n",
    "R = Mam()\n",
    "R.work()\n",
    " \n",
    "K = students()\n",
    "K.work()\n",
    " "
   ]
  },
  {
   "cell_type": "markdown",
   "metadata": {},
   "source": [
    "Multiple Inheritance -> Multiple Inheritance is a type of Inheritance which is used to inherit features and properties from more than one parent class.In multiple inheritance the derived class inherits all the futures of the base class."
   ]
  },
  {
   "cell_type": "code",
   "execution_count": 3,
   "metadata": {},
   "outputs": [
    {
     "name": "stdout",
     "output_type": "stream",
     "text": [
      "This is a Python Screening Assignment\n",
      "I can Teach Probability\n",
      "I can Teach Regression\n",
      "we can learn both\n"
     ]
    }
   ],
   "source": [
    "class Teaching:\n",
    "    def work(self):\n",
    "        print(\"This is a Python Screening Assignment\")\n",
    "\n",
    "class sir(Teaching):\n",
    "    def work(self):\n",
    "        print(\"I can Teach Probability\")\n",
    "       \n",
    "class mam(Teaching):\n",
    "    def work(self):\n",
    "        print(\"I can Teach Regression\")\n",
    " \n",
    "class students(Teaching):\n",
    "    def work(self):\n",
    "         print(\"we can learn both\")    \n",
    "     \n",
    "\n",
    " \n",
    "obj = Teaching()\n",
    "obj.work()\n",
    "\n",
    "sir.work(obj) \n",
    "mam.work(obj)\n",
    "students.work(obj)\n"
   ]
  },
  {
   "cell_type": "markdown",
   "metadata": {},
   "source": [
    "Decorators -> Decorators allow us to change the behavior of a function without modifying the function itself.It is very powerful and useful tool in Python since it allows programmers to modify the behaviour of function or class."
   ]
  },
  {
   "cell_type": "code",
   "execution_count": 4,
   "metadata": {},
   "outputs": [
    {
     "name": "stdout",
     "output_type": "stream",
     "text": [
      "This is a Python Screening Assignment\n",
      "I can teach Probability\n",
      "I can teach Regression\n",
      "We can learn Both\n"
     ]
    }
   ],
   "source": [
    "def my_decor(func):\n",
    "    def my_wrap(*args, **kwargs):\n",
    "        print(\"This is a Python Screening Assignment\")\n",
    "        return func(*args, **kwargs)\n",
    "    return my_wrap\n",
    "def my_another_decor(func):\n",
    "    def my_wrap(*args, **kwargs):\n",
    "        print(\"I can teach Probability\")\n",
    "        return func(*args, **kwargs)\n",
    "    return my_wrap\n",
    "@my_decor\n",
    "@my_another_decor\n",
    "def my_function(str1, str2 ,str3,str4):\n",
    "    print(\"I can teach Regression\")\n",
    "    print(str1 + str2 +\"can \"+ str3 + str4)\n",
    "my_function(\"We\",\" \", \"learn\",\" Both\")"
   ]
  },
  {
   "cell_type": "code",
   "execution_count": null,
   "metadata": {},
   "outputs": [],
   "source": []
  }
 ],
 "metadata": {
  "kernelspec": {
   "display_name": "Python 3",
   "language": "python",
   "name": "python3"
  },
  "language_info": {
   "codemirror_mode": {
    "name": "ipython",
    "version": 3
   },
   "file_extension": ".py",
   "mimetype": "text/x-python",
   "name": "python",
   "nbconvert_exporter": "python",
   "pygments_lexer": "ipython3",
   "version": "3.8.3"
  }
 },
 "nbformat": 4,
 "nbformat_minor": 4
}
